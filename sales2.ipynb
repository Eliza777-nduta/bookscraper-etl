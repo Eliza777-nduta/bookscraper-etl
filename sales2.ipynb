{
 "cells": [
  {
   "cell_type": "code",
   "execution_count": 1,
   "id": "de8241d5",
   "metadata": {},
   "outputs": [],
   "source": [
    "import pandas as pd\n"
   ]
  },
  {
   "cell_type": "code",
   "execution_count": 2,
   "id": "a14da998",
   "metadata": {},
   "outputs": [],
   "source": [
    "df=pd.read_csv('businessretailsales2.csv')"
   ]
  },
  {
   "cell_type": "code",
   "execution_count": 3,
   "id": "a5145b58",
   "metadata": {},
   "outputs": [
    {
     "name": "stdout",
     "output_type": "stream",
     "text": [
      "      Month  Year  Total Orders  Gross Sales  Discounts  Returns  Net Sales  \\\n",
      "0   January  2017            73       8861.5    -129.40  -448.45    8283.65   \n",
      "1  February  2017            56       6908.5    -104.70  -416.20    6387.60   \n",
      "2     March  2017            60       5778.5    -172.20 -1017.20    4589.10   \n",
      "3     April  2017            70       8814.0    -281.40     0.00    8532.60   \n",
      "4       May  2017            54       6677.0    -185.75  -253.80    6237.45   \n",
      "\n",
      "   Shipping  Total Sales  \n",
      "0   1088.30      9371.95  \n",
      "1    892.45      7280.05  \n",
      "2    707.43      5296.53  \n",
      "3   1068.30      9600.90  \n",
      "4    866.46      7103.91  \n"
     ]
    }
   ],
   "source": [
    "print(df.head())"
   ]
  },
  {
   "cell_type": "code",
   "execution_count": 4,
   "id": "0b7f7959",
   "metadata": {},
   "outputs": [
    {
     "name": "stdout",
     "output_type": "stream",
     "text": [
      "        Month  Year  Total Orders  Gross Sales  Discounts  Returns  Net Sales  \\\n",
      "31     August  2019           105      8839.50    -201.67   -84.37    8553.46   \n",
      "32  September  2019            88      9077.45    -354.89  -853.35    7869.21   \n",
      "33    October  2019            97      9132.25    -279.42 -1572.55    7280.28   \n",
      "34   November  2019           272     23997.90    -776.84  -364.51   22856.55   \n",
      "35   December  2019           342     31183.90   -2269.51 -1311.18   27603.21   \n",
      "\n",
      "    Shipping  Total Sales  \n",
      "31   1724.75     10278.21  \n",
      "32   1567.65      9436.86  \n",
      "33   1631.25      8911.53  \n",
      "34   4824.75     27681.30  \n",
      "35   5703.25     33306.46  \n"
     ]
    }
   ],
   "source": [
    "print(df.tail())"
   ]
  },
  {
   "cell_type": "code",
   "execution_count": 5,
   "id": "11219eec",
   "metadata": {},
   "outputs": [
    {
     "name": "stdout",
     "output_type": "stream",
     "text": [
      "<class 'pandas.core.frame.DataFrame'>\n",
      "RangeIndex: 36 entries, 0 to 35\n",
      "Data columns (total 9 columns):\n",
      " #   Column        Non-Null Count  Dtype  \n",
      "---  ------        --------------  -----  \n",
      " 0   Month         36 non-null     object \n",
      " 1   Year          36 non-null     int64  \n",
      " 2   Total Orders  36 non-null     int64  \n",
      " 3   Gross Sales   36 non-null     float64\n",
      " 4   Discounts     36 non-null     float64\n",
      " 5   Returns       36 non-null     float64\n",
      " 6   Net Sales     36 non-null     float64\n",
      " 7   Shipping      36 non-null     float64\n",
      " 8   Total Sales   36 non-null     float64\n",
      "dtypes: float64(6), int64(2), object(1)\n",
      "memory usage: 2.7+ KB\n",
      "None\n"
     ]
    }
   ],
   "source": [
    "print(df.info())"
   ]
  }
 ],
 "metadata": {
  "kernelspec": {
   "display_name": "Python 3",
   "language": "python",
   "name": "python3"
  },
  "language_info": {
   "codemirror_mode": {
    "name": "ipython",
    "version": 3
   },
   "file_extension": ".py",
   "mimetype": "text/x-python",
   "name": "python",
   "nbconvert_exporter": "python",
   "pygments_lexer": "ipython3",
   "version": "3.13.2"
  }
 },
 "nbformat": 4,
 "nbformat_minor": 5
}
