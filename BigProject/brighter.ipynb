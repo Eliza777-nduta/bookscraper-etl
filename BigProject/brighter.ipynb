{
 "cells": [
  {
   "cell_type": "code",
   "execution_count": 4,
   "id": "452893b3",
   "metadata": {},
   "outputs": [
    {
     "name": "stdout",
     "output_type": "stream",
     "text": [
      "<html class=\"js scroll-smooth\" lang=\"en-ke\"><head><meta http-equiv=\"origin-trial\" content=\"A7vZI3v+Gz7JfuRolKNM4Aff6zaGuT7X0mf3wtoZTnKv6497cVMnhy03KDqX7kBz/q/iidW7srW31oQbBt4VhgoAAACUeyJvcmlnaW4iOiJodHRwczovL3d3dy5nb29nbGUuY29tOjQ0MyIsImZlYXR1cmUiOiJEaXNhYmxlVGhpcmRQYXJ0eVN0b3JhZ2VQYXJ0aXRpb25pbmczIiwiZXhwaXJ5IjoxNzU3OTgwODAwLCJpc1N1YmRvbWFpbiI6dHJ1ZSwiaXNUaGlyZFBhcnR5Ijp0cnVlfQ==\">\n",
      "    <style>\n",
      "        body {\n",
      "          opacity: 0;\n",
      "        }\n",
      "        body.loaded {\n",
      "            opacity: 1;\n",
      "        }\n",
      "    </style>\n",
      "    <meta charset=\"utf-8\">\n",
      "    <meta name=\"viewport\" content=\"width=device-width, initial-scale=1, shrink-to-fit=no\">\n",
      "    <meta name=\"google-site-verification\" content=\"4hClu3W3PtjepabInbxYOahjMMOlzUNqWBY9OKZJtdA\">\n",
      "    <meta name=\"csrf-token\" content=\"tnF2lvlt51XPahrvHe3ebAsYb3LwQ5RcDYoF2e9c\">\n",
      "\n",
      "                                <link rel=\"prerender\" href=\"https://www.brightermonday.co.ke/listings/business-development-digital-engagement-intern-20m46e\">\n",
      "                    <link rel=\"p\n",
      "✅ Done. Scraped 0 jobs from 5 pages.\n"
     ]
    }
   ],
   "source": [
    "from selenium import webdriver\n",
    "from selenium.webdriver.chrome.service import Service\n",
    "from selenium.webdriver.common.by import By\n",
    "from webdriver_manager.chrome import ChromeDriverManager\n",
    "import pandas as pd\n",
    "import time\n",
    "\n",
    "# Headless browser setup\n",
    "options = webdriver.ChromeOptions()\n",
    "options.add_argument(\"--headless\")\n",
    "driver = webdriver.Chrome(service=Service(ChromeDriverManager().install()), options=options)\n",
    "\n",
    "data = []\n",
    "\n",
    "# Loop through pages 1 to 5\n",
    "for page in range(1, 6):  # Change 6 to a higher number to get more pages\n",
    "    url = f\"https://www.brightermonday.co.ke/jobs?page={page}\"\n",
    "    driver.get(url)\n",
    "    time.sleep(5)  # wait for page content to load\n",
    "driver.get(\"https://www.brightermonday.co.ke/jobs\")\n",
    "time.sleep(5)\n",
    "\n",
    "print(driver.page_source[:1000])  # print first 1000 characters\n",
    "\n",
    "\n",
    "# Close browser\n",
    "driver.quit()\n",
    "\n",
    "# Save to CSV\n",
    "df = pd.DataFrame(data)\n",
    "df.to_csv(\"brightermonday_jobs_pages.csv\", index=False)\n",
    "\n",
    "print(f\"✅ Done. Scraped {len(data)} jobs from 5 pages.\")\n"
   ]
  },
  {
   "cell_type": "code",
   "execution_count": null,
   "id": "1e4a8b6f",
   "metadata": {},
   "outputs": [],
   "source": []
  }
 ],
 "metadata": {
  "kernelspec": {
   "display_name": "Python 3",
   "language": "python",
   "name": "python3"
  },
  "language_info": {
   "codemirror_mode": {
    "name": "ipython",
    "version": 3
   },
   "file_extension": ".py",
   "mimetype": "text/x-python",
   "name": "python",
   "nbconvert_exporter": "python",
   "pygments_lexer": "ipython3",
   "version": "3.13.2"
  }
 },
 "nbformat": 4,
 "nbformat_minor": 5
}
