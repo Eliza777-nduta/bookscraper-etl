{
 "cells": [
  {
   "cell_type": "code",
   "execution_count": 1,
   "id": "a213a86b",
   "metadata": {},
   "outputs": [],
   "source": [
    "import pandas as pd\n",
    "import sqlite3\n"
   ]
  },
  {
   "cell_type": "code",
   "execution_count": 2,
   "id": "6f84e34a",
   "metadata": {},
   "outputs": [],
   "source": [
    "#extract\n",
    "df=pd.read_csv('businessretailsales.csv')"
   ]
  },
  {
   "cell_type": "code",
   "execution_count": 3,
   "id": "b7683436",
   "metadata": {},
   "outputs": [
    {
     "name": "stdout",
     "output_type": "stream",
     "text": [
      "      Product Type  Net Quantity  Gross Sales  Discounts  Returns  \\\n",
      "0  Art & Sculpture            34      14935.0    -594.00  -1609.0   \n",
      "1           Basket            13       3744.0    -316.80      0.0   \n",
      "2           Basket            12       3825.0    -201.60   -288.0   \n",
      "3           Basket            17       3035.0     -63.25      0.0   \n",
      "4  Art & Sculpture            47       2696.8     -44.16      0.0   \n",
      "\n",
      "   Total Net Sales  \n",
      "0         12732.00  \n",
      "1          3427.20  \n",
      "2          3335.40  \n",
      "3          2971.75  \n",
      "4          2652.64  \n"
     ]
    }
   ],
   "source": [
    "print(df.head())"
   ]
  },
  {
   "cell_type": "code",
   "execution_count": 4,
   "id": "701917b5",
   "metadata": {},
   "outputs": [
    {
     "name": "stdout",
     "output_type": "stream",
     "text": [
      "     Product Type  Net Quantity  Gross Sales  Discounts  Returns  \\\n",
      "1770      Kitchen             0         28.0      -2.81   -25.19   \n",
      "1771      Jewelry             0         28.0       0.00   -28.00   \n",
      "1772       Basket             0        116.0     -23.20   -92.80   \n",
      "1773      Kitchen             0         16.5       0.00   -16.50   \n",
      "1774      Kitchen            -1          0.0       0.00  -106.25   \n",
      "\n",
      "      Total Net Sales  \n",
      "1770             0.00  \n",
      "1771             0.00  \n",
      "1772             0.00  \n",
      "1773             0.00  \n",
      "1774          -106.25  \n"
     ]
    }
   ],
   "source": [
    "print(df.tail())"
   ]
  },
  {
   "cell_type": "code",
   "execution_count": 5,
   "id": "0e3d6b0e",
   "metadata": {},
   "outputs": [
    {
     "name": "stdout",
     "output_type": "stream",
     "text": [
      "<class 'pandas.core.frame.DataFrame'>\n",
      "RangeIndex: 1775 entries, 0 to 1774\n",
      "Data columns (total 6 columns):\n",
      " #   Column           Non-Null Count  Dtype  \n",
      "---  ------           --------------  -----  \n",
      " 0   Product Type     1767 non-null   object \n",
      " 1   Net Quantity     1775 non-null   int64  \n",
      " 2   Gross Sales      1775 non-null   float64\n",
      " 3   Discounts        1775 non-null   float64\n",
      " 4   Returns          1775 non-null   float64\n",
      " 5   Total Net Sales  1775 non-null   float64\n",
      "dtypes: float64(4), int64(1), object(1)\n",
      "memory usage: 83.3+ KB\n",
      "None\n"
     ]
    }
   ],
   "source": [
    "print(df.info())"
   ]
  },
  {
   "cell_type": "code",
   "execution_count": 6,
   "id": "e7a7f8d2",
   "metadata": {},
   "outputs": [
    {
     "name": "stdout",
     "output_type": "stream",
     "text": [
      "       Net Quantity   Gross Sales    Discounts      Returns  Total Net Sales\n",
      "count   1775.000000   1775.000000  1775.000000  1775.000000      1775.000000\n",
      "mean       3.712676    199.671746    -6.317623    -5.385437       187.968687\n",
      "std        6.243078    464.880638    20.903517    46.654269       414.547039\n",
      "min       -1.000000      0.000000  -594.000000 -1609.000000      -106.250000\n",
      "25%        1.000000     48.000000    -6.000000     0.000000        44.800000\n",
      "50%        2.000000    100.000000     0.000000     0.000000        96.000000\n",
      "75%        4.000000    185.500000     0.000000     0.000000       184.750000\n",
      "max       96.000000  14935.000000     0.000000     0.000000     12732.000000\n"
     ]
    }
   ],
   "source": [
    "print(df.describe())"
   ]
  },
  {
   "cell_type": "code",
   "execution_count": 7,
   "id": "06f34dea",
   "metadata": {},
   "outputs": [
    {
     "name": "stdout",
     "output_type": "stream",
     "text": [
      "Product Type       8\n",
      "Net Quantity       0\n",
      "Gross Sales        0\n",
      "Discounts          0\n",
      "Returns            0\n",
      "Total Net Sales    0\n",
      "dtype: int64\n"
     ]
    }
   ],
   "source": [
    "print(df.isnull().sum())"
   ]
  },
  {
   "cell_type": "code",
   "execution_count": 8,
   "id": "12ea4d8e",
   "metadata": {},
   "outputs": [
    {
     "name": "stdout",
     "output_type": "stream",
     "text": [
      "Product Type       8\n",
      "Net Quantity       0\n",
      "Gross Sales        0\n",
      "Discounts          0\n",
      "Returns            0\n",
      "Total Net Sales    0\n",
      "dtype: int64\n"
     ]
    }
   ],
   "source": [
    "print(df.isnull().sum())"
   ]
  },
  {
   "cell_type": "code",
   "execution_count": 9,
   "id": "6f7ae3c1",
   "metadata": {},
   "outputs": [
    {
     "name": "stdout",
     "output_type": "stream",
     "text": [
      "     Product Type  Net Quantity  Gross Sales  Discounts  Returns  \\\n",
      "550           NaN             1        158.0        0.0      0.0   \n",
      "703           NaN             1        128.0        0.0      0.0   \n",
      "1028          NaN             1         75.0        0.0      0.0   \n",
      "1030          NaN             1         75.0        0.0      0.0   \n",
      "1287          NaN             1         48.0        0.0      0.0   \n",
      "1370          NaN             1         42.0        0.0      0.0   \n",
      "1618          NaN             1         24.0        0.0      0.0   \n",
      "1761          NaN             1         10.5        0.0      0.0   \n",
      "\n",
      "      Total Net Sales  \n",
      "550             158.0  \n",
      "703             128.0  \n",
      "1028             75.0  \n",
      "1030             75.0  \n",
      "1287             48.0  \n",
      "1370             42.0  \n",
      "1618             24.0  \n",
      "1761             10.5  \n"
     ]
    }
   ],
   "source": [
    "missing_rows = df['Product Type'].isnull()\n",
    "print(df[missing_rows])"
   ]
  },
  {
   "cell_type": "code",
   "execution_count": 10,
   "id": "fc8278e0",
   "metadata": {},
   "outputs": [
    {
     "name": "stdout",
     "output_type": "stream",
     "text": [
      "0    Basket\n",
      "Name: Product Type, dtype: object\n"
     ]
    }
   ],
   "source": [
    "print(df['Product Type'].mode())"
   ]
  },
  {
   "cell_type": "code",
   "execution_count": 14,
   "id": "8240d319",
   "metadata": {},
   "outputs": [],
   "source": [
    "#transform\n",
    "most_frequent_product_type = df['Product Type'].mode()[0]\n",
    "df['Product Type'].fillna(most_frequent_product_type, inplace=True)"
   ]
  },
  {
   "cell_type": "code",
   "execution_count": 12,
   "id": "62c201a6",
   "metadata": {},
   "outputs": [
    {
     "name": "stdout",
     "output_type": "stream",
     "text": [
      "Product Type       0\n",
      "Net Quantity       0\n",
      "Gross Sales        0\n",
      "Discounts          0\n",
      "Returns            0\n",
      "Total Net Sales    0\n",
      "dtype: int64\n"
     ]
    }
   ],
   "source": [
    "print(df.isnull().sum())"
   ]
  },
  {
   "cell_type": "code",
   "execution_count": 13,
   "id": "36adcbbc",
   "metadata": {},
   "outputs": [],
   "source": [
    "# Load\n",
    "conn = sqlite3.connect('sales_data.db')\n",
    "df.to_sql('sales_table', conn, if_exists='replace', index=False)\n",
    "conn.close()"
   ]
  }
 ],
 "metadata": {
  "kernelspec": {
   "display_name": "Python 3",
   "language": "python",
   "name": "python3"
  },
  "language_info": {
   "codemirror_mode": {
    "name": "ipython",
    "version": 3
   },
   "file_extension": ".py",
   "mimetype": "text/x-python",
   "name": "python",
   "nbconvert_exporter": "python",
   "pygments_lexer": "ipython3",
   "version": "3.13.2"
  }
 },
 "nbformat": 4,
 "nbformat_minor": 5
}
